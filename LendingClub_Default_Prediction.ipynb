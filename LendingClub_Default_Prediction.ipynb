{
 "cells": [
  {
   "cell_type": "markdown",
   "id": "63b10144",
   "metadata": {},
   "source": [
    "\n",
    "# **Loan Default Prediction – LendingClub**  \n",
    "Data Mining – Evaluation II\n",
    "\n",
    "This notebook follows the assignment steps end‑to‑end: data cleaning, EDA, correlation mapping, feature engineering & selection, preprocessing, model training, tuning, and evaluation (Precision, Recall, F1, Confusion Matrix, ROC‑AUC), plus a short discussion and conclusions.\n"
   ]
  },
  {
   "cell_type": "markdown",
   "id": "849e5deb",
   "metadata": {},
   "source": [
    "\n",
    "## 0) Setup & Data Loading\n",
    "\n",
    "**Option A (Upload manually):** In Colab, go to `Files` (left panel) → Upload `lending_club_loan_two.csv` and set `DATA_PATH` accordingly.  \n",
    "**Option B (Kaggle API):** Uncomment the Kaggle cell and add your Kaggle API token.\n"
   ]
  },
  {
   "cell_type": "code",
   "id": "f42c6fc2",
   "metadata": {
    "ExecuteTime": {
     "end_time": "2025-10-20T03:24:09.997798Z",
     "start_time": "2025-10-20T03:24:09.995065Z"
    }
   },
   "source": [
    "DATA_PATH = 'lending_club_loan_two.csv'  # update if needed\n",
    "# Quick check (will fail until the file exists)\n",
    "import os\n",
    "print('File exists?', os.path.exists(DATA_PATH))"
   ],
   "outputs": [
    {
     "name": "stdout",
     "output_type": "stream",
     "text": [
      "File exists? True\n"
     ]
    }
   ],
   "execution_count": 7
  },
  {
   "cell_type": "code",
   "id": "369cc6ab",
   "metadata": {
    "ExecuteTime": {
     "end_time": "2025-10-20T03:24:10.022486Z",
     "start_time": "2025-10-20T03:24:10.019993Z"
    }
   },
   "source": [
    "import numpy as np\n",
    "import pandas as pd\n",
    "import matplotlib.pyplot as plt\n",
    "\n",
    "from sklearn.model_selection import train_test_split, StratifiedKFold, RandomizedSearchCV\n",
    "from sklearn.compose import ColumnTransformer\n",
    "from sklearn.pipeline import Pipeline\n",
    "from sklearn.preprocessing import OneHotEncoder, StandardScaler\n",
    "from sklearn.impute import SimpleImputer\n",
    "from sklearn.metrics import (classification_report, confusion_matrix, roc_auc_score, \n",
    "                             roc_curve, RocCurveDisplay)\n",
    "\n",
    "from sklearn.linear_model import LogisticRegression\n",
    "from sklearn.ensemble import RandomForestClassifier, HistGradientBoostingClassifier\n",
    "from sklearn.feature_selection import mutual_info_classif, SelectKBest\n",
    "\n",
    "# Display settings\n",
    "pd.set_option('display.max_columns', 200)\n",
    "pd.set_option('display.width', 140)"
   ],
   "outputs": [],
   "execution_count": 8
  },
  {
   "cell_type": "markdown",
   "id": "1c0a449c",
   "metadata": {},
   "source": [
    "\n",
    "## 1) Understanding the dataset & business context\n",
    "\n",
    "- **Business objective:** Predict the likelihood that a loan will be **charged off** (default) at origination to minimize financial risk (reduce false positives) without rejecting too many reliable borrowers (reduce false negatives)."
   ]
  },
  {
   "cell_type": "code",
   "id": "e426c491",
   "metadata": {
    "ExecuteTime": {
     "end_time": "2025-10-20T03:24:10.942878Z",
     "start_time": "2025-10-20T03:24:10.043419Z"
    }
   },
   "source": [
    "df = pd.read_csv(DATA_PATH)\n",
    "df.head()"
   ],
   "outputs": [
    {
     "data": {
      "text/plain": [
       "   loan_amnt        term  int_rate  installment grade sub_grade                emp_title emp_length home_ownership  annual_inc  \\\n",
       "0    10000.0   36 months     11.44       329.48     B        B4                Marketing  10+ years           RENT    117000.0   \n",
       "1     8000.0   36 months     11.99       265.68     B        B5          Credit analyst     4 years       MORTGAGE     65000.0   \n",
       "2    15600.0   36 months     10.49       506.97     B        B3             Statistician   < 1 year           RENT     43057.0   \n",
       "3     7200.0   36 months      6.49       220.65     A        A2          Client Advocate    6 years           RENT     54000.0   \n",
       "4    24375.0   60 months     17.27       609.33     C        C5  Destiny Management Inc.    9 years       MORTGAGE     55000.0   \n",
       "\n",
       "  verification_status   issue_d  loan_status             purpose                    title    dti earliest_cr_line  open_acc  pub_rec  \\\n",
       "0        Not Verified  Jan-2015   Fully Paid            vacation                 Vacation  26.24         Jun-1990      16.0      0.0   \n",
       "1        Not Verified  Jan-2015   Fully Paid  debt_consolidation       Debt consolidation  22.05         Jul-2004      17.0      0.0   \n",
       "2     Source Verified  Jan-2015   Fully Paid         credit_card  Credit card refinancing  12.79         Aug-2007      13.0      0.0   \n",
       "3        Not Verified  Nov-2014   Fully Paid         credit_card  Credit card refinancing   2.60         Sep-2006       6.0      0.0   \n",
       "4            Verified  Apr-2013  Charged Off         credit_card    Credit Card Refinance  33.95         Mar-1999      13.0      0.0   \n",
       "\n",
       "   revol_bal  revol_util  total_acc initial_list_status application_type  mort_acc  pub_rec_bankruptcies  \\\n",
       "0    36369.0        41.8       25.0                   w       INDIVIDUAL       0.0                   0.0   \n",
       "1    20131.0        53.3       27.0                   f       INDIVIDUAL       3.0                   0.0   \n",
       "2    11987.0        92.2       26.0                   f       INDIVIDUAL       0.0                   0.0   \n",
       "3     5472.0        21.5       13.0                   f       INDIVIDUAL       0.0                   0.0   \n",
       "4    24584.0        69.8       43.0                   f       INDIVIDUAL       1.0                   0.0   \n",
       "\n",
       "                                             address  \n",
       "0     0174 Michelle Gateway\\r\\nMendozaberg, OK 22690  \n",
       "1  1076 Carney Fort Apt. 347\\r\\nLoganmouth, SD 05113  \n",
       "2  87025 Mark Dale Apt. 269\\r\\nNew Sabrina, WV 05113  \n",
       "3            823 Reid Ford\\r\\nDelacruzside, MA 00813  \n",
       "4             679 Luna Roads\\r\\nGreggshire, VA 11650  "
      ],
      "text/html": [
       "<div>\n",
       "<style scoped>\n",
       "    .dataframe tbody tr th:only-of-type {\n",
       "        vertical-align: middle;\n",
       "    }\n",
       "\n",
       "    .dataframe tbody tr th {\n",
       "        vertical-align: top;\n",
       "    }\n",
       "\n",
       "    .dataframe thead th {\n",
       "        text-align: right;\n",
       "    }\n",
       "</style>\n",
       "<table border=\"1\" class=\"dataframe\">\n",
       "  <thead>\n",
       "    <tr style=\"text-align: right;\">\n",
       "      <th></th>\n",
       "      <th>loan_amnt</th>\n",
       "      <th>term</th>\n",
       "      <th>int_rate</th>\n",
       "      <th>installment</th>\n",
       "      <th>grade</th>\n",
       "      <th>sub_grade</th>\n",
       "      <th>emp_title</th>\n",
       "      <th>emp_length</th>\n",
       "      <th>home_ownership</th>\n",
       "      <th>annual_inc</th>\n",
       "      <th>verification_status</th>\n",
       "      <th>issue_d</th>\n",
       "      <th>loan_status</th>\n",
       "      <th>purpose</th>\n",
       "      <th>title</th>\n",
       "      <th>dti</th>\n",
       "      <th>earliest_cr_line</th>\n",
       "      <th>open_acc</th>\n",
       "      <th>pub_rec</th>\n",
       "      <th>revol_bal</th>\n",
       "      <th>revol_util</th>\n",
       "      <th>total_acc</th>\n",
       "      <th>initial_list_status</th>\n",
       "      <th>application_type</th>\n",
       "      <th>mort_acc</th>\n",
       "      <th>pub_rec_bankruptcies</th>\n",
       "      <th>address</th>\n",
       "    </tr>\n",
       "  </thead>\n",
       "  <tbody>\n",
       "    <tr>\n",
       "      <th>0</th>\n",
       "      <td>10000.0</td>\n",
       "      <td>36 months</td>\n",
       "      <td>11.44</td>\n",
       "      <td>329.48</td>\n",
       "      <td>B</td>\n",
       "      <td>B4</td>\n",
       "      <td>Marketing</td>\n",
       "      <td>10+ years</td>\n",
       "      <td>RENT</td>\n",
       "      <td>117000.0</td>\n",
       "      <td>Not Verified</td>\n",
       "      <td>Jan-2015</td>\n",
       "      <td>Fully Paid</td>\n",
       "      <td>vacation</td>\n",
       "      <td>Vacation</td>\n",
       "      <td>26.24</td>\n",
       "      <td>Jun-1990</td>\n",
       "      <td>16.0</td>\n",
       "      <td>0.0</td>\n",
       "      <td>36369.0</td>\n",
       "      <td>41.8</td>\n",
       "      <td>25.0</td>\n",
       "      <td>w</td>\n",
       "      <td>INDIVIDUAL</td>\n",
       "      <td>0.0</td>\n",
       "      <td>0.0</td>\n",
       "      <td>0174 Michelle Gateway\\r\\nMendozaberg, OK 22690</td>\n",
       "    </tr>\n",
       "    <tr>\n",
       "      <th>1</th>\n",
       "      <td>8000.0</td>\n",
       "      <td>36 months</td>\n",
       "      <td>11.99</td>\n",
       "      <td>265.68</td>\n",
       "      <td>B</td>\n",
       "      <td>B5</td>\n",
       "      <td>Credit analyst</td>\n",
       "      <td>4 years</td>\n",
       "      <td>MORTGAGE</td>\n",
       "      <td>65000.0</td>\n",
       "      <td>Not Verified</td>\n",
       "      <td>Jan-2015</td>\n",
       "      <td>Fully Paid</td>\n",
       "      <td>debt_consolidation</td>\n",
       "      <td>Debt consolidation</td>\n",
       "      <td>22.05</td>\n",
       "      <td>Jul-2004</td>\n",
       "      <td>17.0</td>\n",
       "      <td>0.0</td>\n",
       "      <td>20131.0</td>\n",
       "      <td>53.3</td>\n",
       "      <td>27.0</td>\n",
       "      <td>f</td>\n",
       "      <td>INDIVIDUAL</td>\n",
       "      <td>3.0</td>\n",
       "      <td>0.0</td>\n",
       "      <td>1076 Carney Fort Apt. 347\\r\\nLoganmouth, SD 05113</td>\n",
       "    </tr>\n",
       "    <tr>\n",
       "      <th>2</th>\n",
       "      <td>15600.0</td>\n",
       "      <td>36 months</td>\n",
       "      <td>10.49</td>\n",
       "      <td>506.97</td>\n",
       "      <td>B</td>\n",
       "      <td>B3</td>\n",
       "      <td>Statistician</td>\n",
       "      <td>&lt; 1 year</td>\n",
       "      <td>RENT</td>\n",
       "      <td>43057.0</td>\n",
       "      <td>Source Verified</td>\n",
       "      <td>Jan-2015</td>\n",
       "      <td>Fully Paid</td>\n",
       "      <td>credit_card</td>\n",
       "      <td>Credit card refinancing</td>\n",
       "      <td>12.79</td>\n",
       "      <td>Aug-2007</td>\n",
       "      <td>13.0</td>\n",
       "      <td>0.0</td>\n",
       "      <td>11987.0</td>\n",
       "      <td>92.2</td>\n",
       "      <td>26.0</td>\n",
       "      <td>f</td>\n",
       "      <td>INDIVIDUAL</td>\n",
       "      <td>0.0</td>\n",
       "      <td>0.0</td>\n",
       "      <td>87025 Mark Dale Apt. 269\\r\\nNew Sabrina, WV 05113</td>\n",
       "    </tr>\n",
       "    <tr>\n",
       "      <th>3</th>\n",
       "      <td>7200.0</td>\n",
       "      <td>36 months</td>\n",
       "      <td>6.49</td>\n",
       "      <td>220.65</td>\n",
       "      <td>A</td>\n",
       "      <td>A2</td>\n",
       "      <td>Client Advocate</td>\n",
       "      <td>6 years</td>\n",
       "      <td>RENT</td>\n",
       "      <td>54000.0</td>\n",
       "      <td>Not Verified</td>\n",
       "      <td>Nov-2014</td>\n",
       "      <td>Fully Paid</td>\n",
       "      <td>credit_card</td>\n",
       "      <td>Credit card refinancing</td>\n",
       "      <td>2.60</td>\n",
       "      <td>Sep-2006</td>\n",
       "      <td>6.0</td>\n",
       "      <td>0.0</td>\n",
       "      <td>5472.0</td>\n",
       "      <td>21.5</td>\n",
       "      <td>13.0</td>\n",
       "      <td>f</td>\n",
       "      <td>INDIVIDUAL</td>\n",
       "      <td>0.0</td>\n",
       "      <td>0.0</td>\n",
       "      <td>823 Reid Ford\\r\\nDelacruzside, MA 00813</td>\n",
       "    </tr>\n",
       "    <tr>\n",
       "      <th>4</th>\n",
       "      <td>24375.0</td>\n",
       "      <td>60 months</td>\n",
       "      <td>17.27</td>\n",
       "      <td>609.33</td>\n",
       "      <td>C</td>\n",
       "      <td>C5</td>\n",
       "      <td>Destiny Management Inc.</td>\n",
       "      <td>9 years</td>\n",
       "      <td>MORTGAGE</td>\n",
       "      <td>55000.0</td>\n",
       "      <td>Verified</td>\n",
       "      <td>Apr-2013</td>\n",
       "      <td>Charged Off</td>\n",
       "      <td>credit_card</td>\n",
       "      <td>Credit Card Refinance</td>\n",
       "      <td>33.95</td>\n",
       "      <td>Mar-1999</td>\n",
       "      <td>13.0</td>\n",
       "      <td>0.0</td>\n",
       "      <td>24584.0</td>\n",
       "      <td>69.8</td>\n",
       "      <td>43.0</td>\n",
       "      <td>f</td>\n",
       "      <td>INDIVIDUAL</td>\n",
       "      <td>1.0</td>\n",
       "      <td>0.0</td>\n",
       "      <td>679 Luna Roads\\r\\nGreggshire, VA 11650</td>\n",
       "    </tr>\n",
       "  </tbody>\n",
       "</table>\n",
       "</div>"
      ]
     },
     "execution_count": 9,
     "metadata": {},
     "output_type": "execute_result"
    }
   ],
   "execution_count": 9
  },
  {
   "cell_type": "code",
   "id": "a1ee989f",
   "metadata": {
    "ExecuteTime": {
     "end_time": "2025-10-20T03:24:10.994416Z",
     "start_time": "2025-10-20T03:24:10.990382Z"
    }
   },
   "source": "df.shape, df.dtypes.value_counts()",
   "outputs": [
    {
     "data": {
      "text/plain": [
       "((396030, 27),\n",
       " object     15\n",
       " float64    12\n",
       " Name: count, dtype: int64)"
      ]
     },
     "execution_count": 10,
     "metadata": {},
     "output_type": "execute_result"
    }
   ],
   "execution_count": 10
  },
  {
   "cell_type": "code",
   "id": "fb3b3d90",
   "metadata": {
    "ExecuteTime": {
     "end_time": "2025-10-20T03:24:11.121987Z",
     "start_time": "2025-10-20T03:24:11.050388Z"
    }
   },
   "source": [
    "# Binary target: 1 = Charged Off (default), 0 = Fully Paid\n",
    "df['default'] = (df['loan_status'].str.strip().str.lower() == 'charged off').astype(int)\n",
    "df['default'].value_counts()"
   ],
   "outputs": [
    {
     "data": {
      "text/plain": [
       "default\n",
       "0    318357\n",
       "1     77673\n",
       "Name: count, dtype: int64"
      ]
     },
     "execution_count": 11,
     "metadata": {},
     "output_type": "execute_result"
    }
   ],
   "execution_count": 11
  },
  {
   "cell_type": "markdown",
   "id": "489f76fb",
   "metadata": {},
   "source": [
    "\n",
    "## 2) Data cleaning & 3) EDA\n",
    "- Handle missing values\n",
    "- Engineer useful features (e.g., `term_months`, `emp_length_years`, `credit_age_years`)\n",
    "- Remove high-cardinality text columns that add noise\n",
    "- Explore class balance & descriptive statistics\n",
    "- Correlation map and multicollinearity comments\n"
   ]
  },
  {
   "cell_type": "code",
   "id": "ffce9ef2",
   "metadata": {
    "ExecuteTime": {
     "end_time": "2025-10-20T03:24:32.233694Z",
     "start_time": "2025-10-20T03:24:11.196006Z"
    }
   },
   "source": [
    "def parse_term(term):\n",
    "    if pd.isna(term): return np.nan\n",
    "    digits = ''.join([ch for ch in str(term) if ch.isdigit()])\n",
    "    return float(digits) if digits else np.nan\n",
    "\n",
    "def parse_emp_length(val):\n",
    "    if pd.isna(val): return np.nan\n",
    "    s = str(val).strip()\n",
    "    if s == '10+ years': return 10.0\n",
    "    if s == '< 1 year': return 0.0\n",
    "    if s == '1 year': return 1.0\n",
    "    if 'years' in s:\n",
    "        try:\n",
    "            return float(s.split()[0])\n",
    "        except:\n",
    "            return np.nan\n",
    "    return np.nan\n",
    "\n",
    "def to_dt(s):\n",
    "    for fmt in ('%b-%Y', None):\n",
    "        try:\n",
    "            return pd.to_datetime(s, format=fmt) if fmt else pd.to_datetime(s)\n",
    "        except:\n",
    "            continue\n",
    "    return pd.NaT\n",
    "\n",
    "df['term_months'] = df['term'].map(parse_term)\n",
    "df['emp_length_years'] = df['emp_length'].map(parse_emp_length)\n",
    "df['issue_dt'] = df['issue_d'].apply(to_dt)\n",
    "df['earliest_dt'] = df['earliest_cr_line'].apply(to_dt)\n",
    "df['credit_age_years'] = ((df['issue_dt'] - df['earliest_dt']).dt.days / 365.25)\n",
    "df['issue_year'] = df['issue_dt'].dt.year\n",
    "df['issue_month'] = df['issue_dt'].dt.month\n",
    "\n",
    "# Drop redundant/noisy text columns\n",
    "drop_cols = ['loan_status','term','emp_length','issue_d','earliest_cr_line','title','emp_title','address','grade']\n",
    "df_model = df.drop(columns=drop_cols, errors='ignore')\n",
    "\n",
    "y = df_model['default'].values\n",
    "X = df_model.drop(columns=['default'])\n",
    "\n",
    "numeric_cols = X.select_dtypes(include=[np.number]).columns.tolist()\n",
    "categorical_cols = X.select_dtypes(include=['object']).columns.tolist()\n",
    "\n",
    "print('Numeric cols:', len(numeric_cols))\n",
    "print('Categorical cols:', len(categorical_cols))\n",
    "df_model[numeric_cols].describe().T.iloc[:15]"
   ],
   "outputs": [
    {
     "name": "stdout",
     "output_type": "stream",
     "text": [
      "Numeric cols: 17\n",
      "Categorical cols: 6\n"
     ]
    },
    {
     "data": {
      "text/plain": [
       "                         count          mean           std         min           25%           50%           75%           max\n",
       "loan_amnt             396030.0  14113.888089   8357.441341  500.000000   8000.000000  12000.000000  20000.000000  4.000000e+04\n",
       "int_rate              396030.0     13.639400      4.472157    5.320000     10.490000     13.330000     16.490000  3.099000e+01\n",
       "installment           396030.0    431.849698    250.727790   16.080000    250.330000    375.430000    567.300000  1.533810e+03\n",
       "annual_inc            396030.0  74203.175798  61637.621158    0.000000  45000.000000  64000.000000  90000.000000  8.706582e+06\n",
       "dti                   396030.0     17.379514     18.019092    0.000000     11.280000     16.910000     22.980000  9.999000e+03\n",
       "open_acc              396030.0     11.311153      5.137649    0.000000      8.000000     10.000000     14.000000  9.000000e+01\n",
       "pub_rec               396030.0      0.178191      0.530671    0.000000      0.000000      0.000000      0.000000  8.600000e+01\n",
       "revol_bal             396030.0  15844.539853  20591.836109    0.000000   6025.000000  11181.000000  19620.000000  1.743266e+06\n",
       "revol_util            395754.0     53.791749     24.452193    0.000000     35.800000     54.800000     72.900000  8.923000e+02\n",
       "total_acc             396030.0     25.414744     11.886991    2.000000     17.000000     24.000000     32.000000  1.510000e+02\n",
       "mort_acc              358235.0      1.813991      2.147930    0.000000      0.000000      1.000000      3.000000  3.400000e+01\n",
       "pub_rec_bankruptcies  395495.0      0.121648      0.356174    0.000000      0.000000      0.000000      0.000000  8.000000e+00\n",
       "term_months           396030.0     41.698053     10.212038   36.000000     36.000000     36.000000     36.000000  6.000000e+01\n",
       "emp_length_years      377729.0      5.938578      3.645623    0.000000      3.000000      6.000000     10.000000  1.000000e+01\n",
       "credit_age_years      396030.0     15.754323      7.201072    2.997947     10.915811     14.335387     19.334702  7.016290e+01"
      ],
      "text/html": [
       "<div>\n",
       "<style scoped>\n",
       "    .dataframe tbody tr th:only-of-type {\n",
       "        vertical-align: middle;\n",
       "    }\n",
       "\n",
       "    .dataframe tbody tr th {\n",
       "        vertical-align: top;\n",
       "    }\n",
       "\n",
       "    .dataframe thead th {\n",
       "        text-align: right;\n",
       "    }\n",
       "</style>\n",
       "<table border=\"1\" class=\"dataframe\">\n",
       "  <thead>\n",
       "    <tr style=\"text-align: right;\">\n",
       "      <th></th>\n",
       "      <th>count</th>\n",
       "      <th>mean</th>\n",
       "      <th>std</th>\n",
       "      <th>min</th>\n",
       "      <th>25%</th>\n",
       "      <th>50%</th>\n",
       "      <th>75%</th>\n",
       "      <th>max</th>\n",
       "    </tr>\n",
       "  </thead>\n",
       "  <tbody>\n",
       "    <tr>\n",
       "      <th>loan_amnt</th>\n",
       "      <td>396030.0</td>\n",
       "      <td>14113.888089</td>\n",
       "      <td>8357.441341</td>\n",
       "      <td>500.000000</td>\n",
       "      <td>8000.000000</td>\n",
       "      <td>12000.000000</td>\n",
       "      <td>20000.000000</td>\n",
       "      <td>4.000000e+04</td>\n",
       "    </tr>\n",
       "    <tr>\n",
       "      <th>int_rate</th>\n",
       "      <td>396030.0</td>\n",
       "      <td>13.639400</td>\n",
       "      <td>4.472157</td>\n",
       "      <td>5.320000</td>\n",
       "      <td>10.490000</td>\n",
       "      <td>13.330000</td>\n",
       "      <td>16.490000</td>\n",
       "      <td>3.099000e+01</td>\n",
       "    </tr>\n",
       "    <tr>\n",
       "      <th>installment</th>\n",
       "      <td>396030.0</td>\n",
       "      <td>431.849698</td>\n",
       "      <td>250.727790</td>\n",
       "      <td>16.080000</td>\n",
       "      <td>250.330000</td>\n",
       "      <td>375.430000</td>\n",
       "      <td>567.300000</td>\n",
       "      <td>1.533810e+03</td>\n",
       "    </tr>\n",
       "    <tr>\n",
       "      <th>annual_inc</th>\n",
       "      <td>396030.0</td>\n",
       "      <td>74203.175798</td>\n",
       "      <td>61637.621158</td>\n",
       "      <td>0.000000</td>\n",
       "      <td>45000.000000</td>\n",
       "      <td>64000.000000</td>\n",
       "      <td>90000.000000</td>\n",
       "      <td>8.706582e+06</td>\n",
       "    </tr>\n",
       "    <tr>\n",
       "      <th>dti</th>\n",
       "      <td>396030.0</td>\n",
       "      <td>17.379514</td>\n",
       "      <td>18.019092</td>\n",
       "      <td>0.000000</td>\n",
       "      <td>11.280000</td>\n",
       "      <td>16.910000</td>\n",
       "      <td>22.980000</td>\n",
       "      <td>9.999000e+03</td>\n",
       "    </tr>\n",
       "    <tr>\n",
       "      <th>open_acc</th>\n",
       "      <td>396030.0</td>\n",
       "      <td>11.311153</td>\n",
       "      <td>5.137649</td>\n",
       "      <td>0.000000</td>\n",
       "      <td>8.000000</td>\n",
       "      <td>10.000000</td>\n",
       "      <td>14.000000</td>\n",
       "      <td>9.000000e+01</td>\n",
       "    </tr>\n",
       "    <tr>\n",
       "      <th>pub_rec</th>\n",
       "      <td>396030.0</td>\n",
       "      <td>0.178191</td>\n",
       "      <td>0.530671</td>\n",
       "      <td>0.000000</td>\n",
       "      <td>0.000000</td>\n",
       "      <td>0.000000</td>\n",
       "      <td>0.000000</td>\n",
       "      <td>8.600000e+01</td>\n",
       "    </tr>\n",
       "    <tr>\n",
       "      <th>revol_bal</th>\n",
       "      <td>396030.0</td>\n",
       "      <td>15844.539853</td>\n",
       "      <td>20591.836109</td>\n",
       "      <td>0.000000</td>\n",
       "      <td>6025.000000</td>\n",
       "      <td>11181.000000</td>\n",
       "      <td>19620.000000</td>\n",
       "      <td>1.743266e+06</td>\n",
       "    </tr>\n",
       "    <tr>\n",
       "      <th>revol_util</th>\n",
       "      <td>395754.0</td>\n",
       "      <td>53.791749</td>\n",
       "      <td>24.452193</td>\n",
       "      <td>0.000000</td>\n",
       "      <td>35.800000</td>\n",
       "      <td>54.800000</td>\n",
       "      <td>72.900000</td>\n",
       "      <td>8.923000e+02</td>\n",
       "    </tr>\n",
       "    <tr>\n",
       "      <th>total_acc</th>\n",
       "      <td>396030.0</td>\n",
       "      <td>25.414744</td>\n",
       "      <td>11.886991</td>\n",
       "      <td>2.000000</td>\n",
       "      <td>17.000000</td>\n",
       "      <td>24.000000</td>\n",
       "      <td>32.000000</td>\n",
       "      <td>1.510000e+02</td>\n",
       "    </tr>\n",
       "    <tr>\n",
       "      <th>mort_acc</th>\n",
       "      <td>358235.0</td>\n",
       "      <td>1.813991</td>\n",
       "      <td>2.147930</td>\n",
       "      <td>0.000000</td>\n",
       "      <td>0.000000</td>\n",
       "      <td>1.000000</td>\n",
       "      <td>3.000000</td>\n",
       "      <td>3.400000e+01</td>\n",
       "    </tr>\n",
       "    <tr>\n",
       "      <th>pub_rec_bankruptcies</th>\n",
       "      <td>395495.0</td>\n",
       "      <td>0.121648</td>\n",
       "      <td>0.356174</td>\n",
       "      <td>0.000000</td>\n",
       "      <td>0.000000</td>\n",
       "      <td>0.000000</td>\n",
       "      <td>0.000000</td>\n",
       "      <td>8.000000e+00</td>\n",
       "    </tr>\n",
       "    <tr>\n",
       "      <th>term_months</th>\n",
       "      <td>396030.0</td>\n",
       "      <td>41.698053</td>\n",
       "      <td>10.212038</td>\n",
       "      <td>36.000000</td>\n",
       "      <td>36.000000</td>\n",
       "      <td>36.000000</td>\n",
       "      <td>36.000000</td>\n",
       "      <td>6.000000e+01</td>\n",
       "    </tr>\n",
       "    <tr>\n",
       "      <th>emp_length_years</th>\n",
       "      <td>377729.0</td>\n",
       "      <td>5.938578</td>\n",
       "      <td>3.645623</td>\n",
       "      <td>0.000000</td>\n",
       "      <td>3.000000</td>\n",
       "      <td>6.000000</td>\n",
       "      <td>10.000000</td>\n",
       "      <td>1.000000e+01</td>\n",
       "    </tr>\n",
       "    <tr>\n",
       "      <th>credit_age_years</th>\n",
       "      <td>396030.0</td>\n",
       "      <td>15.754323</td>\n",
       "      <td>7.201072</td>\n",
       "      <td>2.997947</td>\n",
       "      <td>10.915811</td>\n",
       "      <td>14.335387</td>\n",
       "      <td>19.334702</td>\n",
       "      <td>7.016290e+01</td>\n",
       "    </tr>\n",
       "  </tbody>\n",
       "</table>\n",
       "</div>"
      ]
     },
     "execution_count": 12,
     "metadata": {},
     "output_type": "execute_result"
    }
   ],
   "execution_count": 12
  },
  {
   "cell_type": "code",
   "id": "d5f1885c",
   "metadata": {
    "ExecuteTime": {
     "end_time": "2025-10-20T03:24:32.520168Z",
     "start_time": "2025-10-20T03:24:32.408267Z"
    }
   },
   "source": [
    "\n",
    "# Class balance\n",
    "class_counts = pd.Series(y).value_counts().rename({0:'Fully Paid (0)',1:'Charged Off (1)'})\n",
    "class_counts.plot(kind='bar', rot=0)\n",
    "plt.title('Class Balance')\n",
    "plt.xlabel('Class'); plt.ylabel('Count')\n",
    "plt.show()\n",
    "class_counts"
   ],
   "outputs": [
    {
     "data": {
      "text/plain": [
       "<Figure size 640x480 with 1 Axes>"
      ],
      "image/png": "[encoded data removed]"
     },
     "metadata": {},
     "output_type": "display_data",
     "jetTransient": {
      "display_id": null
     }
    },
    {
     "data": {
      "text/plain": [
       "Fully Paid (0)     318357\n",
       "Charged Off (1)     77673\n",
       "Name: count, dtype: int64"
      ]
     },
     "execution_count": 13,
     "metadata": {},
     "output_type": "execute_result"
    }
   ],
   "execution_count": 13
  },
  {
   "cell_type": "code",
   "id": "2a91567e",
   "metadata": {
    "ExecuteTime": {
     "end_time": "2025-10-20T03:24:32.909078Z",
     "start_time": "2025-10-20T03:24:32.605772Z"
    }
   },
   "source": [
    "\n",
    "# Correlation heatmap (numeric only; be careful interpreting OHE features later)\n",
    "num_df = X[numeric_cols].copy()\n",
    "for c in num_df.columns:\n",
    "    if num_df[c].isna().any():\n",
    "        num_df[c] = num_df[c].fillna(num_df[c].median())\n",
    "corr = num_df.corr(numeric_only=True)\n",
    "plt.figure(figsize=(8,6))\n",
    "plt.imshow(corr, aspect='auto', interpolation='nearest')\n",
    "plt.colorbar(); plt.title('Correlation Heatmap (numeric)')\n",
    "plt.xticks(range(len(corr.columns)), corr.columns, rotation=90, fontsize=6)\n",
    "plt.yticks(range(len(corr.index)), corr.index, fontsize=6)\n",
    "plt.tight_layout()\n",
    "plt.show()"
   ],
   "outputs": [
    {
     "data": {
      "text/plain": [
       "<Figure size 800x600 with 2 Axes>"
      ],
      "image/png": "[encoded data removed]"
     },
     "metadata": {},
     "output_type": "display_data",
     "jetTransient": {
      "display_id": null
     }
    }
   ],
   "execution_count": 14
  },
  {
   "cell_type": "markdown",
   "id": "889f283f",
   "metadata": {},
   "source": [
    "\n",
    "## 4) Feature selection\n",
    "We use **mutual information** to score features against the target and select the top‑K. This helps reduce noise and multicollinearity effects after one‑hot encoding.\n"
   ]
  },
  {
   "cell_type": "code",
   "id": "44bf3e65",
   "metadata": {
    "ExecuteTime": {
     "end_time": "2025-10-20T03:24:33.426554Z",
     "start_time": "2025-10-20T03:24:32.915103Z"
    }
   },
   "source": [
    "\n",
    "# Preprocessing for MI (simple imputation + OHE). We'll compute MI on a sample for speed.\n",
    "from sklearn.preprocessing import OrdinalEncoder\n",
    "from sklearn.feature_selection import mutual_info_classif\n",
    "\n",
    "# Temporary: impute & encode categoricals as ordinal for MI speed (approximation)\n",
    "X_mi = X.copy()\n",
    "for c in X_mi.select_dtypes(include=[np.number]).columns:\n",
    "    X_mi[c] = X_mi[c].fillna(X_mi[c].median())\n",
    "\n",
    "cat_cols = X_mi.select_dtypes(include=['object']).columns.tolist()\n",
    "if cat_cols:\n",
    "    enc = OrdinalEncoder(handle_unknown='use_encoded_value', unknown_value=-1)\n",
    "    X_mi[cat_cols] = enc.fit_transform(X_mi[cat_cols].astype(str))\n",
    "\n",
    "mi = mutual_info_classif(X_mi, y, discrete_features=[X_mi[c].dtype != float for c in X_mi.columns], random_state=42)\n",
    "mi_series = pd.Series(mi, index=X_mi.columns).sort_values(ascending=False)\n",
    "mi_series.head(20)"
   ],
   "outputs": [
    {
     "ename": "DTypePromotionError",
     "evalue": "The DType <class 'numpy.dtypes.DateTime64DType'> could not be promoted by <class 'numpy.dtypes.Float64DType'>. This means that no common DType exists for the given inputs. For example they cannot be stored in a single array unless the dtype is `object`. The full list of DTypes is: (<class 'numpy.dtypes.Float64DType'>, <class 'numpy.dtypes.Float64DType'>, <class 'numpy.dtypes.Float64DType'>, <class 'numpy.dtypes.Float64DType'>, <class 'numpy.dtypes.Float64DType'>, <class 'numpy.dtypes.Float64DType'>, <class 'numpy.dtypes.Float64DType'>, <class 'numpy.dtypes.Float64DType'>, <class 'numpy.dtypes.Float64DType'>, <class 'numpy.dtypes.Float64DType'>, <class 'numpy.dtypes.Float64DType'>, <class 'numpy.dtypes.Float64DType'>, <class 'numpy.dtypes.Float64DType'>, <class 'numpy.dtypes.Float64DType'>, <class 'numpy.dtypes.Float64DType'>, <class 'numpy.dtypes.Float64DType'>, <class 'numpy.dtypes.Float64DType'>, <class 'numpy.dtypes.Float64DType'>, <class 'numpy.dtypes.Float64DType'>, <class 'numpy.dtypes.Float64DType'>, <class 'numpy.dtypes.DateTime64DType'>, <class 'numpy.dtypes.DateTime64DType'>, <class 'numpy.dtypes.Float64DType'>, <class 'numpy.dtypes.Int32DType'>, <class 'numpy.dtypes.Int32DType'>)",
     "output_type": "error",
     "traceback": [
      "\u001B[31m---------------------------------------------------------------------------\u001B[39m",
      "\u001B[31mDTypePromotionError\u001B[39m                       Traceback (most recent call last)",
      "\u001B[36mCell\u001B[39m\u001B[36m \u001B[39m\u001B[32mIn[15]\u001B[39m\u001B[32m, line 15\u001B[39m\n\u001B[32m     12\u001B[39m     enc = OrdinalEncoder(handle_unknown=\u001B[33m'\u001B[39m\u001B[33muse_encoded_value\u001B[39m\u001B[33m'\u001B[39m, unknown_value=-\u001B[32m1\u001B[39m)\n\u001B[32m     13\u001B[39m     X_mi[cat_cols] = enc.fit_transform(X_mi[cat_cols].astype(\u001B[38;5;28mstr\u001B[39m))\n\u001B[32m---> \u001B[39m\u001B[32m15\u001B[39m mi = \u001B[43mmutual_info_classif\u001B[49m\u001B[43m(\u001B[49m\u001B[43mX_mi\u001B[49m\u001B[43m,\u001B[49m\u001B[43m \u001B[49m\u001B[43my\u001B[49m\u001B[43m,\u001B[49m\u001B[43m \u001B[49m\u001B[43mdiscrete_features\u001B[49m\u001B[43m=\u001B[49m\u001B[43m[\u001B[49m\u001B[43mX_mi\u001B[49m\u001B[43m[\u001B[49m\u001B[43mc\u001B[49m\u001B[43m]\u001B[49m\u001B[43m.\u001B[49m\u001B[43mdtype\u001B[49m\u001B[43m \u001B[49m\u001B[43m!=\u001B[49m\u001B[43m \u001B[49m\u001B[38;5;28;43mfloat\u001B[39;49m\u001B[43m \u001B[49m\u001B[38;5;28;43;01mfor\u001B[39;49;00m\u001B[43m \u001B[49m\u001B[43mc\u001B[49m\u001B[43m \u001B[49m\u001B[38;5;129;43;01min\u001B[39;49;00m\u001B[43m \u001B[49m\u001B[43mX_mi\u001B[49m\u001B[43m.\u001B[49m\u001B[43mcolumns\u001B[49m\u001B[43m]\u001B[49m\u001B[43m,\u001B[49m\u001B[43m \u001B[49m\u001B[43mrandom_state\u001B[49m\u001B[43m=\u001B[49m\u001B[32;43m42\u001B[39;49m\u001B[43m)\u001B[49m\n\u001B[32m     16\u001B[39m mi_series = pd.Series(mi, index=X_mi.columns).sort_values(ascending=\u001B[38;5;28;01mFalse\u001B[39;00m)\n\u001B[32m     17\u001B[39m mi_series.head(\u001B[32m20\u001B[39m)\n",
      "\u001B[36mFile \u001B[39m\u001B[32m/opt/anaconda3/envs/M1METAL/lib/python3.11/site-packages/sklearn/utils/_param_validation.py:218\u001B[39m, in \u001B[36mvalidate_params.<locals>.decorator.<locals>.wrapper\u001B[39m\u001B[34m(*args, **kwargs)\u001B[39m\n\u001B[32m    212\u001B[39m \u001B[38;5;28;01mtry\u001B[39;00m:\n\u001B[32m    213\u001B[39m     \u001B[38;5;28;01mwith\u001B[39;00m config_context(\n\u001B[32m    214\u001B[39m         skip_parameter_validation=(\n\u001B[32m    215\u001B[39m             prefer_skip_nested_validation \u001B[38;5;129;01mor\u001B[39;00m global_skip_validation\n\u001B[32m    216\u001B[39m         )\n\u001B[32m    217\u001B[39m     ):\n\u001B[32m--> \u001B[39m\u001B[32m218\u001B[39m         \u001B[38;5;28;01mreturn\u001B[39;00m \u001B[43mfunc\u001B[49m\u001B[43m(\u001B[49m\u001B[43m*\u001B[49m\u001B[43margs\u001B[49m\u001B[43m,\u001B[49m\u001B[43m \u001B[49m\u001B[43m*\u001B[49m\u001B[43m*\u001B[49m\u001B[43mkwargs\u001B[49m\u001B[43m)\u001B[49m\n\u001B[32m    219\u001B[39m \u001B[38;5;28;01mexcept\u001B[39;00m InvalidParameterError \u001B[38;5;28;01mas\u001B[39;00m e:\n\u001B[32m    220\u001B[39m     \u001B[38;5;66;03m# When the function is just a wrapper around an estimator, we allow\u001B[39;00m\n\u001B[32m    221\u001B[39m     \u001B[38;5;66;03m# the function to delegate validation to the estimator, but we replace\u001B[39;00m\n\u001B[32m    222\u001B[39m     \u001B[38;5;66;03m# the name of the estimator by the name of the function in the error\u001B[39;00m\n\u001B[32m    223\u001B[39m     \u001B[38;5;66;03m# message to avoid confusion.\u001B[39;00m\n\u001B[32m    224\u001B[39m     msg = re.sub(\n\u001B[32m    225\u001B[39m         \u001B[33mr\u001B[39m\u001B[33m\"\u001B[39m\u001B[33mparameter of \u001B[39m\u001B[33m\\\u001B[39m\u001B[33mw+ must be\u001B[39m\u001B[33m\"\u001B[39m,\n\u001B[32m    226\u001B[39m         \u001B[33mf\u001B[39m\u001B[33m\"\u001B[39m\u001B[33mparameter of \u001B[39m\u001B[38;5;132;01m{\u001B[39;00mfunc.\u001B[34m__qualname__\u001B[39m\u001B[38;5;132;01m}\u001B[39;00m\u001B[33m must be\u001B[39m\u001B[33m\"\u001B[39m,\n\u001B[32m    227\u001B[39m         \u001B[38;5;28mstr\u001B[39m(e),\n\u001B[32m    228\u001B[39m     )\n",
      "\u001B[36mFile \u001B[39m\u001B[32m/opt/anaconda3/envs/M1METAL/lib/python3.11/site-packages/sklearn/feature_selection/_mutual_info.py:571\u001B[39m, in \u001B[36mmutual_info_classif\u001B[39m\u001B[34m(X, y, discrete_features, n_neighbors, copy, random_state, n_jobs)\u001B[39m\n\u001B[32m    475\u001B[39m \u001B[38;5;250m\u001B[39m\u001B[33;03m\"\"\"Estimate mutual information for a discrete target variable.\u001B[39;00m\n\u001B[32m    476\u001B[39m \n\u001B[32m    477\u001B[39m \u001B[33;03mMutual information (MI) [1]_ between two random variables is a non-negative\u001B[39;00m\n\u001B[32m   (...)\u001B[39m\u001B[32m    568\u001B[39m \u001B[33;03m       0.   , 0.   , 0.   , 0.     , 0.])\u001B[39;00m\n\u001B[32m    569\u001B[39m \u001B[33;03m\"\"\"\u001B[39;00m\n\u001B[32m    570\u001B[39m check_classification_targets(y)\n\u001B[32m--> \u001B[39m\u001B[32m571\u001B[39m \u001B[38;5;28;01mreturn\u001B[39;00m \u001B[43m_estimate_mi\u001B[49m\u001B[43m(\u001B[49m\n\u001B[32m    572\u001B[39m \u001B[43m    \u001B[49m\u001B[43mX\u001B[49m\u001B[43m,\u001B[49m\n\u001B[32m    573\u001B[39m \u001B[43m    \u001B[49m\u001B[43my\u001B[49m\u001B[43m,\u001B[49m\n\u001B[32m    574\u001B[39m \u001B[43m    \u001B[49m\u001B[43mdiscrete_features\u001B[49m\u001B[43m=\u001B[49m\u001B[43mdiscrete_features\u001B[49m\u001B[43m,\u001B[49m\n\u001B[32m    575\u001B[39m \u001B[43m    \u001B[49m\u001B[43mdiscrete_target\u001B[49m\u001B[43m=\u001B[49m\u001B[38;5;28;43;01mTrue\u001B[39;49;00m\u001B[43m,\u001B[49m\n\u001B[32m    576\u001B[39m \u001B[43m    \u001B[49m\u001B[43mn_neighbors\u001B[49m\u001B[43m=\u001B[49m\u001B[43mn_neighbors\u001B[49m\u001B[43m,\u001B[49m\n\u001B[32m    577\u001B[39m \u001B[43m    \u001B[49m\u001B[43mcopy\u001B[49m\u001B[43m=\u001B[49m\u001B[43mcopy\u001B[49m\u001B[43m,\u001B[49m\n\u001B[32m    578\u001B[39m \u001B[43m    \u001B[49m\u001B[43mrandom_state\u001B[49m\u001B[43m=\u001B[49m\u001B[43mrandom_state\u001B[49m\u001B[43m,\u001B[49m\n\u001B[32m    579\u001B[39m \u001B[43m    \u001B[49m\u001B[43mn_jobs\u001B[49m\u001B[43m=\u001B[49m\u001B[43mn_jobs\u001B[49m\u001B[43m,\u001B[49m\n\u001B[32m    580\u001B[39m \u001B[43m\u001B[49m\u001B[43m)\u001B[49m\n",
      "\u001B[36mFile \u001B[39m\u001B[32m/opt/anaconda3/envs/M1METAL/lib/python3.11/site-packages/sklearn/feature_selection/_mutual_info.py:271\u001B[39m, in \u001B[36m_estimate_mi\u001B[39m\u001B[34m(X, y, discrete_features, discrete_target, n_neighbors, copy, random_state, n_jobs)\u001B[39m\n\u001B[32m    202\u001B[39m \u001B[38;5;28;01mdef\u001B[39;00m\u001B[38;5;250m \u001B[39m\u001B[34m_estimate_mi\u001B[39m(\n\u001B[32m    203\u001B[39m     X,\n\u001B[32m    204\u001B[39m     y,\n\u001B[32m   (...)\u001B[39m\u001B[32m    211\u001B[39m     n_jobs=\u001B[38;5;28;01mNone\u001B[39;00m,\n\u001B[32m    212\u001B[39m ):\n\u001B[32m    213\u001B[39m \u001B[38;5;250m    \u001B[39m\u001B[33;03m\"\"\"Estimate mutual information between the features and the target.\u001B[39;00m\n\u001B[32m    214\u001B[39m \n\u001B[32m    215\u001B[39m \u001B[33;03m    Parameters\u001B[39;00m\n\u001B[32m   (...)\u001B[39m\u001B[32m    269\u001B[39m \u001B[33;03m           Data Sets\". PLoS ONE 9(2), 2014.\u001B[39;00m\n\u001B[32m    270\u001B[39m \u001B[33;03m    \"\"\"\u001B[39;00m\n\u001B[32m--> \u001B[39m\u001B[32m271\u001B[39m     X, y = \u001B[43mcheck_X_y\u001B[49m\u001B[43m(\u001B[49m\u001B[43mX\u001B[49m\u001B[43m,\u001B[49m\u001B[43m \u001B[49m\u001B[43my\u001B[49m\u001B[43m,\u001B[49m\u001B[43m \u001B[49m\u001B[43maccept_sparse\u001B[49m\u001B[43m=\u001B[49m\u001B[33;43m\"\u001B[39;49m\u001B[33;43mcsc\u001B[39;49m\u001B[33;43m\"\u001B[39;49m\u001B[43m,\u001B[49m\u001B[43m \u001B[49m\u001B[43my_numeric\u001B[49m\u001B[43m=\u001B[49m\u001B[38;5;129;43;01mnot\u001B[39;49;00m\u001B[43m \u001B[49m\u001B[43mdiscrete_target\u001B[49m\u001B[43m)\u001B[49m\n\u001B[32m    272\u001B[39m     n_samples, n_features = X.shape\n\u001B[32m    274\u001B[39m     \u001B[38;5;28;01mif\u001B[39;00m \u001B[38;5;28misinstance\u001B[39m(discrete_features, (\u001B[38;5;28mstr\u001B[39m, \u001B[38;5;28mbool\u001B[39m)):\n",
      "\u001B[36mFile \u001B[39m\u001B[32m/opt/anaconda3/envs/M1METAL/lib/python3.11/site-packages/sklearn/utils/validation.py:1368\u001B[39m, in \u001B[36mcheck_X_y\u001B[39m\u001B[34m(X, y, accept_sparse, accept_large_sparse, dtype, order, copy, force_writeable, force_all_finite, ensure_all_finite, ensure_2d, allow_nd, multi_output, ensure_min_samples, ensure_min_features, y_numeric, estimator)\u001B[39m\n\u001B[32m   1362\u001B[39m     \u001B[38;5;28;01mraise\u001B[39;00m \u001B[38;5;167;01mValueError\u001B[39;00m(\n\u001B[32m   1363\u001B[39m         \u001B[33mf\u001B[39m\u001B[33m\"\u001B[39m\u001B[38;5;132;01m{\u001B[39;00mestimator_name\u001B[38;5;132;01m}\u001B[39;00m\u001B[33m requires y to be passed, but the target y is None\u001B[39m\u001B[33m\"\u001B[39m\n\u001B[32m   1364\u001B[39m     )\n\u001B[32m   1366\u001B[39m ensure_all_finite = _deprecate_force_all_finite(force_all_finite, ensure_all_finite)\n\u001B[32m-> \u001B[39m\u001B[32m1368\u001B[39m X = \u001B[43mcheck_array\u001B[49m\u001B[43m(\u001B[49m\n\u001B[32m   1369\u001B[39m \u001B[43m    \u001B[49m\u001B[43mX\u001B[49m\u001B[43m,\u001B[49m\n\u001B[32m   1370\u001B[39m \u001B[43m    \u001B[49m\u001B[43maccept_sparse\u001B[49m\u001B[43m=\u001B[49m\u001B[43maccept_sparse\u001B[49m\u001B[43m,\u001B[49m\n\u001B[32m   1371\u001B[39m \u001B[43m    \u001B[49m\u001B[43maccept_large_sparse\u001B[49m\u001B[43m=\u001B[49m\u001B[43maccept_large_sparse\u001B[49m\u001B[43m,\u001B[49m\n\u001B[32m   1372\u001B[39m \u001B[43m    \u001B[49m\u001B[43mdtype\u001B[49m\u001B[43m=\u001B[49m\u001B[43mdtype\u001B[49m\u001B[43m,\u001B[49m\n\u001B[32m   1373\u001B[39m \u001B[43m    \u001B[49m\u001B[43morder\u001B[49m\u001B[43m=\u001B[49m\u001B[43morder\u001B[49m\u001B[43m,\u001B[49m\n\u001B[32m   1374\u001B[39m \u001B[43m    \u001B[49m\u001B[43mcopy\u001B[49m\u001B[43m=\u001B[49m\u001B[43mcopy\u001B[49m\u001B[43m,\u001B[49m\n\u001B[32m   1375\u001B[39m \u001B[43m    \u001B[49m\u001B[43mforce_writeable\u001B[49m\u001B[43m=\u001B[49m\u001B[43mforce_writeable\u001B[49m\u001B[43m,\u001B[49m\n\u001B[32m   1376\u001B[39m \u001B[43m    \u001B[49m\u001B[43mensure_all_finite\u001B[49m\u001B[43m=\u001B[49m\u001B[43mensure_all_finite\u001B[49m\u001B[43m,\u001B[49m\n\u001B[32m   1377\u001B[39m \u001B[43m    \u001B[49m\u001B[43mensure_2d\u001B[49m\u001B[43m=\u001B[49m\u001B[43mensure_2d\u001B[49m\u001B[43m,\u001B[49m\n\u001B[32m   1378\u001B[39m \u001B[43m    \u001B[49m\u001B[43mallow_nd\u001B[49m\u001B[43m=\u001B[49m\u001B[43mallow_nd\u001B[49m\u001B[43m,\u001B[49m\n\u001B[32m   1379\u001B[39m \u001B[43m    \u001B[49m\u001B[43mensure_min_samples\u001B[49m\u001B[43m=\u001B[49m\u001B[43mensure_min_samples\u001B[49m\u001B[43m,\u001B[49m\n\u001B[32m   1380\u001B[39m \u001B[43m    \u001B[49m\u001B[43mensure_min_features\u001B[49m\u001B[43m=\u001B[49m\u001B[43mensure_min_features\u001B[49m\u001B[43m,\u001B[49m\n\u001B[32m   1381\u001B[39m \u001B[43m    \u001B[49m\u001B[43mestimator\u001B[49m\u001B[43m=\u001B[49m\u001B[43mestimator\u001B[49m\u001B[43m,\u001B[49m\n\u001B[32m   1382\u001B[39m \u001B[43m    \u001B[49m\u001B[43minput_name\u001B[49m\u001B[43m=\u001B[49m\u001B[33;43m\"\u001B[39;49m\u001B[33;43mX\u001B[39;49m\u001B[33;43m\"\u001B[39;49m\u001B[43m,\u001B[49m\n\u001B[32m   1383\u001B[39m \u001B[43m\u001B[49m\u001B[43m)\u001B[49m\n\u001B[32m   1385\u001B[39m y = _check_y(y, multi_output=multi_output, y_numeric=y_numeric, estimator=estimator)\n\u001B[32m   1387\u001B[39m check_consistent_length(X, y)\n",
      "\u001B[36mFile \u001B[39m\u001B[32m/opt/anaconda3/envs/M1METAL/lib/python3.11/site-packages/sklearn/utils/validation.py:929\u001B[39m, in \u001B[36mcheck_array\u001B[39m\u001B[34m(array, accept_sparse, accept_large_sparse, dtype, order, copy, force_writeable, force_all_finite, ensure_all_finite, ensure_non_negative, ensure_2d, allow_nd, ensure_min_samples, ensure_min_features, estimator, input_name)\u001B[39m\n\u001B[32m    925\u001B[39m pandas_requires_conversion = \u001B[38;5;28many\u001B[39m(\n\u001B[32m    926\u001B[39m     _pandas_dtype_needs_early_conversion(i) \u001B[38;5;28;01mfor\u001B[39;00m i \u001B[38;5;129;01min\u001B[39;00m dtypes_orig\n\u001B[32m    927\u001B[39m )\n\u001B[32m    928\u001B[39m \u001B[38;5;28;01mif\u001B[39;00m \u001B[38;5;28mall\u001B[39m(\u001B[38;5;28misinstance\u001B[39m(dtype_iter, np.dtype) \u001B[38;5;28;01mfor\u001B[39;00m dtype_iter \u001B[38;5;129;01min\u001B[39;00m dtypes_orig):\n\u001B[32m--> \u001B[39m\u001B[32m929\u001B[39m     dtype_orig = \u001B[43mnp\u001B[49m\u001B[43m.\u001B[49m\u001B[43mresult_type\u001B[49m\u001B[43m(\u001B[49m\u001B[43m*\u001B[49m\u001B[43mdtypes_orig\u001B[49m\u001B[43m)\u001B[49m\n\u001B[32m    930\u001B[39m \u001B[38;5;28;01melif\u001B[39;00m pandas_requires_conversion \u001B[38;5;129;01mand\u001B[39;00m \u001B[38;5;28many\u001B[39m(d == \u001B[38;5;28mobject\u001B[39m \u001B[38;5;28;01mfor\u001B[39;00m d \u001B[38;5;129;01min\u001B[39;00m dtypes_orig):\n\u001B[32m    931\u001B[39m     \u001B[38;5;66;03m# Force object if any of the dtypes is an object\u001B[39;00m\n\u001B[32m    932\u001B[39m     dtype_orig = \u001B[38;5;28mobject\u001B[39m\n",
      "\u001B[31mDTypePromotionError\u001B[39m: The DType <class 'numpy.dtypes.DateTime64DType'> could not be promoted by <class 'numpy.dtypes.Float64DType'>. This means that no common DType exists for the given inputs. For example they cannot be stored in a single array unless the dtype is `object`. The full list of DTypes is: (<class 'numpy.dtypes.Float64DType'>, <class 'numpy.dtypes.Float64DType'>, <class 'numpy.dtypes.Float64DType'>, <class 'numpy.dtypes.Float64DType'>, <class 'numpy.dtypes.Float64DType'>, <class 'numpy.dtypes.Float64DType'>, <class 'numpy.dtypes.Float64DType'>, <class 'numpy.dtypes.Float64DType'>, <class 'numpy.dtypes.Float64DType'>, <class 'numpy.dtypes.Float64DType'>, <class 'numpy.dtypes.Float64DType'>, <class 'numpy.dtypes.Float64DType'>, <class 'numpy.dtypes.Float64DType'>, <class 'numpy.dtypes.Float64DType'>, <class 'numpy.dtypes.Float64DType'>, <class 'numpy.dtypes.Float64DType'>, <class 'numpy.dtypes.Float64DType'>, <class 'numpy.dtypes.Float64DType'>, <class 'numpy.dtypes.Float64DType'>, <class 'numpy.dtypes.Float64DType'>, <class 'numpy.dtypes.DateTime64DType'>, <class 'numpy.dtypes.DateTime64DType'>, <class 'numpy.dtypes.Float64DType'>, <class 'numpy.dtypes.Int32DType'>, <class 'numpy.dtypes.Int32DType'>)"
     ]
    }
   ],
   "execution_count": 15
  },
  {
   "cell_type": "code",
   "id": "f043efe0",
   "metadata": {},
   "source": [
    "\n",
    "# Choose K features (tune K as you like). We'll keep a generous set to avoid losing signal.\n",
    "K = min(40, X.shape[1])\n",
    "top_features = mi_series.head(K).index.tolist()\n",
    "top_features"
   ],
   "outputs": [],
   "execution_count": null
  },
  {
   "cell_type": "markdown",
   "id": "945887de",
   "metadata": {},
   "source": [
    "\n",
    "## 5) Data preprocessing & splitting\n",
    "We use a `ColumnTransformer` for numeric/categorical pipelines and keep only the top‑K features selected above. Then we do a **stratified** train/test split.\n"
   ]
  },
  {
   "cell_type": "code",
   "id": "8bd30e75",
   "metadata": {},
   "source": [
    "\n",
    "X_sel = X[top_features].copy()\n",
    "\n",
    "num_cols = X_sel.select_dtypes(include=[np.number]).columns.tolist()\n",
    "cat_cols = X_sel.select_dtypes(include=['object']).columns.tolist()\n",
    "\n",
    "numeric_transformer = Pipeline([('imputer', SimpleImputer(strategy='median')),\n",
    "                                ('scaler', StandardScaler())])\n",
    "categorical_transformer = Pipeline([('imputer', SimpleImputer(strategy='most_frequent')),\n",
    "                                    ('ohe', OneHotEncoder(handle_unknown='ignore', sparse=False))])\n",
    "\n",
    "preprocessor = ColumnTransformer([('num', numeric_transformer, num_cols),\n",
    "                                  ('cat', categorical_transformer, cat_cols)])\n",
    "\n",
    "X_train, X_test, y_train, y_test = train_test_split(\n",
    "    X_sel, y, test_size=0.2, stratify=y, random_state=42\n",
    ")\n",
    "X_train.shape, X_test.shape, pd.Series(y_train).value_counts(normalize=True)"
   ],
   "outputs": [],
   "execution_count": null
  },
  {
   "cell_type": "markdown",
   "id": "7ab37c4a",
   "metadata": {},
   "source": [
    "\n",
    "## 6) Model training & 7) Hyperparameters\n",
    "We train three models:\n",
    "- **Logistic Regression** (baseline, interpretable)\n",
    "- **Random Forest** (nonlinear, robust)\n",
    "- **HistGradientBoosting** (fast boosting baseline)\n",
    "\n",
    "We define key hyperparameters and tune them via **RandomizedSearchCV**.\n"
   ]
  },
  {
   "cell_type": "code",
   "id": "c28b79a6",
   "metadata": {},
   "source": [
    "\n",
    "models = {\n",
    "    'log_reg': LogisticRegression(max_iter=3000, class_weight='balanced', solver='lbfgs'),\n",
    "    'rf': RandomForestClassifier(class_weight='balanced_subsample', random_state=42, n_jobs=-1),\n",
    "    'hgb': HistGradientBoostingClassifier(random_state=42)\n",
    "}\n",
    "\n",
    "param_spaces = {\n",
    "    'log_reg': {'clf__C': np.logspace(-2, 2, 12)},\n",
    "    'rf': {\n",
    "        'clf__n_estimators': [200, 300, 500],\n",
    "        'clf__max_depth': [None, 10, 20, 30],\n",
    "        'clf__min_samples_split': [2, 5, 10],\n",
    "        'clf__min_samples_leaf': [1, 2, 4],\n",
    "        'clf__max_features': ['sqrt', 'log2', None],\n",
    "    },\n",
    "    'hgb': {\n",
    "        'clf__max_depth': [None, 4, 8, 12],\n",
    "        'clf__learning_rate': [0.05, 0.1, 0.2],\n",
    "        'clf__max_iter': [100, 200, 300],\n",
    "        'clf__l2_regularization': [0.0, 0.01, 0.1]\n",
    "    }\n",
    "}\n",
    "\n",
    "cv = StratifiedKFold(n_splits=3, shuffle=True, random_state=42)\n",
    "\n",
    "best_models = {}\n",
    "for name, clf in models.items():\n",
    "    pipe = Pipeline([('prep', preprocessor), ('clf', clf)])\n",
    "    search = RandomizedSearchCV(\n",
    "        pipe, param_spaces[name], n_iter=15, scoring='roc_auc',\n",
    "        cv=cv, random_state=42, n_jobs=-1, verbose=1\n",
    "    )\n",
    "    search.fit(X_train, y_train)\n",
    "    best_models[name] = search.best_estimator_\n",
    "    print(name, 'best params:', search.best_params_)"
   ],
   "outputs": [],
   "execution_count": null
  },
  {
   "cell_type": "markdown",
   "id": "488239c4",
   "metadata": {},
   "source": [
    "\n",
    "## 8) Tuning impact & 9) Evaluation\n",
    "We evaluate each model on the test set and compare **Precision, Recall, F1 (by class)**, **Confusion Matrix**, and **ROC‑AUC**.\n"
   ]
  },
  {
   "cell_type": "code",
   "id": "1d117760",
   "metadata": {},
   "source": [
    "\n",
    "def evaluate_model(name, model):\n",
    "    y_pred = model.predict(X_test)\n",
    "    if hasattr(model, 'predict_proba'):\n",
    "        y_proba = model.predict_proba(X_test)[:,1]\n",
    "    else:\n",
    "        y_proba = None\n",
    "    rep = classification_report(y_test, y_pred, output_dict=True, digits=4)\n",
    "    cm = confusion_matrix(y_test, y_pred)\n",
    "    auc = roc_auc_score(y_test, y_proba) if y_proba is not None else np.nan\n",
    "    print(f'\\n{name} | ROC-AUC: {auc:.4f}')\n",
    "    print(pd.DataFrame(rep).T[['precision','recall','f1-score','support']].head(3))\n",
    "    print('Confusion Matrix:\\n', cm)\n",
    "    if y_proba is not None:\n",
    "        RocCurveDisplay.from_predictions(y_test, y_proba)\n",
    "        plt.title(f'ROC – {name} (AUC={auc:.3f})')\n",
    "        plt.show()\n",
    "    return {'model': name, 'roc_auc': auc,\n",
    "            'precision_1': rep['1']['precision'], 'recall_1': rep['1']['recall'], 'f1_1': rep['1']['f1-score']}\n",
    "\n",
    "rows = []\n",
    "for name, model in best_models.items():\n",
    "    rows.append(evaluate_model(name, model))\n",
    "\n",
    "pd.DataFrame(rows).sort_values('roc_auc', ascending=False)"
   ],
   "outputs": [],
   "execution_count": null
  },
  {
   "cell_type": "markdown",
   "id": "bdbe130a",
   "metadata": {},
   "source": [
    "\n",
    "## Discussion\n",
    "1. **Best balance:** Explain which model achieved the best tradeoff between **recall** (catch risky borrowers) and **precision** (avoid wrongly flagging reliable borrowers), and why that matters to LendingClub.\n",
    "2. **Effect of tuning:** Summarize how the hyperparameters changed the model behavior (e.g., RF depth vs. overfitting; LR regularization `C`; HGB learning rate/iterations).\n",
    "3. **Conclusion:** How you would deploy the chosen model (threshold tuning, risk tiers, manual review flags) to minimize financial risk while preserving approval rates.\n"
   ]
  }
 ],
 "metadata": {
  "kernelspec": {
   "name": "python3",
   "language": "python",
   "display_name": "Python 3 (ipykernel)"
  }
 },
 "nbformat": 4,
 "nbformat_minor": 5
}
